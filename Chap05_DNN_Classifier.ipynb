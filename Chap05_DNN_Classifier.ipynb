{
 "cells": [
  {
   "cell_type": "code",
   "execution_count": 1,
   "metadata": {},
   "outputs": [
    {
     "name": "stderr",
     "output_type": "stream",
     "text": [
      "/anaconda/lib/python3.6/site-packages/h5py/__init__.py:36: FutureWarning: Conversion of the second argument of issubdtype from `float` to `np.floating` is deprecated. In future, it will be treated as `np.float64 == np.dtype(float).type`.\n",
      "  from ._conv import register_converters as _register_converters\n"
     ]
    }
   ],
   "source": [
    "import pandas as pd\n",
    "import numpy as np\n",
    "import tensorflow as tf\n",
    "from sklearn.preprocessing import StandardScaler, OneHotEncoder\n",
    "from sklearn.model_selection import train_test_split\n",
    "from sklearn.utils import shuffle"
   ]
  },
  {
   "cell_type": "code",
   "execution_count": 2,
   "metadata": {},
   "outputs": [],
   "source": [
    "tf.enable_eager_execution()"
   ]
  },
  {
   "cell_type": "code",
   "execution_count": 3,
   "metadata": {},
   "outputs": [
    {
     "data": {
      "text/html": [
       "<div>\n",
       "<style scoped>\n",
       "    .dataframe tbody tr th:only-of-type {\n",
       "        vertical-align: middle;\n",
       "    }\n",
       "\n",
       "    .dataframe tbody tr th {\n",
       "        vertical-align: top;\n",
       "    }\n",
       "\n",
       "    .dataframe thead th {\n",
       "        text-align: right;\n",
       "    }\n",
       "</style>\n",
       "<table border=\"1\" class=\"dataframe\">\n",
       "  <thead>\n",
       "    <tr style=\"text-align: right;\">\n",
       "      <th></th>\n",
       "      <th>Wine</th>\n",
       "      <th>Alcohol</th>\n",
       "      <th>Malic.acid</th>\n",
       "      <th>Ash</th>\n",
       "      <th>Acl</th>\n",
       "      <th>Mg</th>\n",
       "      <th>Phenols</th>\n",
       "      <th>Flavanoids</th>\n",
       "      <th>Nonflavanoid.phenols</th>\n",
       "      <th>Proanth</th>\n",
       "      <th>Color.int</th>\n",
       "      <th>Hue</th>\n",
       "      <th>OD</th>\n",
       "      <th>Proline</th>\n",
       "    </tr>\n",
       "  </thead>\n",
       "  <tbody>\n",
       "    <tr>\n",
       "      <th>0</th>\n",
       "      <td>0</td>\n",
       "      <td>14.23</td>\n",
       "      <td>1.71</td>\n",
       "      <td>2.43</td>\n",
       "      <td>15.6</td>\n",
       "      <td>127</td>\n",
       "      <td>2.80</td>\n",
       "      <td>3.06</td>\n",
       "      <td>0.28</td>\n",
       "      <td>2.29</td>\n",
       "      <td>5.64</td>\n",
       "      <td>1.04</td>\n",
       "      <td>3.92</td>\n",
       "      <td>1065</td>\n",
       "    </tr>\n",
       "    <tr>\n",
       "      <th>1</th>\n",
       "      <td>0</td>\n",
       "      <td>13.20</td>\n",
       "      <td>1.78</td>\n",
       "      <td>2.14</td>\n",
       "      <td>11.2</td>\n",
       "      <td>100</td>\n",
       "      <td>2.65</td>\n",
       "      <td>2.76</td>\n",
       "      <td>0.26</td>\n",
       "      <td>1.28</td>\n",
       "      <td>4.38</td>\n",
       "      <td>1.05</td>\n",
       "      <td>3.40</td>\n",
       "      <td>1050</td>\n",
       "    </tr>\n",
       "    <tr>\n",
       "      <th>2</th>\n",
       "      <td>0</td>\n",
       "      <td>13.16</td>\n",
       "      <td>2.36</td>\n",
       "      <td>2.67</td>\n",
       "      <td>18.6</td>\n",
       "      <td>101</td>\n",
       "      <td>2.80</td>\n",
       "      <td>3.24</td>\n",
       "      <td>0.30</td>\n",
       "      <td>2.81</td>\n",
       "      <td>5.68</td>\n",
       "      <td>1.03</td>\n",
       "      <td>3.17</td>\n",
       "      <td>1185</td>\n",
       "    </tr>\n",
       "    <tr>\n",
       "      <th>3</th>\n",
       "      <td>0</td>\n",
       "      <td>14.37</td>\n",
       "      <td>1.95</td>\n",
       "      <td>2.50</td>\n",
       "      <td>16.8</td>\n",
       "      <td>113</td>\n",
       "      <td>3.85</td>\n",
       "      <td>3.49</td>\n",
       "      <td>0.24</td>\n",
       "      <td>2.18</td>\n",
       "      <td>7.80</td>\n",
       "      <td>0.86</td>\n",
       "      <td>3.45</td>\n",
       "      <td>1480</td>\n",
       "    </tr>\n",
       "    <tr>\n",
       "      <th>4</th>\n",
       "      <td>0</td>\n",
       "      <td>13.24</td>\n",
       "      <td>2.59</td>\n",
       "      <td>2.87</td>\n",
       "      <td>21.0</td>\n",
       "      <td>118</td>\n",
       "      <td>2.80</td>\n",
       "      <td>2.69</td>\n",
       "      <td>0.39</td>\n",
       "      <td>1.82</td>\n",
       "      <td>4.32</td>\n",
       "      <td>1.04</td>\n",
       "      <td>2.93</td>\n",
       "      <td>735</td>\n",
       "    </tr>\n",
       "  </tbody>\n",
       "</table>\n",
       "</div>"
      ],
      "text/plain": [
       "   Wine  Alcohol  Malic.acid   Ash   Acl   Mg  Phenols  Flavanoids  \\\n",
       "0     0    14.23        1.71  2.43  15.6  127     2.80        3.06   \n",
       "1     0    13.20        1.78  2.14  11.2  100     2.65        2.76   \n",
       "2     0    13.16        2.36  2.67  18.6  101     2.80        3.24   \n",
       "3     0    14.37        1.95  2.50  16.8  113     3.85        3.49   \n",
       "4     0    13.24        2.59  2.87  21.0  118     2.80        2.69   \n",
       "\n",
       "   Nonflavanoid.phenols  Proanth  Color.int   Hue    OD  Proline  \n",
       "0                  0.28     2.29       5.64  1.04  3.92     1065  \n",
       "1                  0.26     1.28       4.38  1.05  3.40     1050  \n",
       "2                  0.30     2.81       5.68  1.03  3.17     1185  \n",
       "3                  0.24     2.18       7.80  0.86  3.45     1480  \n",
       "4                  0.39     1.82       4.32  1.04  2.93      735  "
      ]
     },
     "execution_count": 3,
     "metadata": {},
     "output_type": "execute_result"
    }
   ],
   "source": [
    "data = pd.read_csv(\"wine.csv\")\n",
    "feature_columns = ['Alcohol', 'Malic.acid', 'Ash', 'Acl', 'Mg', 'Phenols',\n",
    "       'Flavanoids', 'Nonflavanoid.phenols', 'Proanth', 'Color.int', 'Hue',\n",
    "       'OD', 'Proline']\n",
    "data[\"Wine\"] = data[\"Wine\"] - 1  # original unique value [1, 2, 3]\n",
    "data.head()"
   ]
  },
  {
   "cell_type": "code",
   "execution_count": 4,
   "metadata": {},
   "outputs": [
    {
     "name": "stdout",
     "output_type": "stream",
     "text": [
      "<class 'pandas.core.frame.DataFrame'>\n",
      "RangeIndex: 178 entries, 0 to 177\n",
      "Data columns (total 14 columns):\n",
      "Wine                    178 non-null int64\n",
      "Alcohol                 178 non-null float64\n",
      "Malic.acid              178 non-null float64\n",
      "Ash                     178 non-null float64\n",
      "Acl                     178 non-null float64\n",
      "Mg                      178 non-null int64\n",
      "Phenols                 178 non-null float64\n",
      "Flavanoids              178 non-null float64\n",
      "Nonflavanoid.phenols    178 non-null float64\n",
      "Proanth                 178 non-null float64\n",
      "Color.int               178 non-null float64\n",
      "Hue                     178 non-null float64\n",
      "OD                      178 non-null float64\n",
      "Proline                 178 non-null int64\n",
      "dtypes: float64(11), int64(3)\n",
      "memory usage: 19.5 KB\n"
     ]
    }
   ],
   "source": [
    "data.info()"
   ]
  },
  {
   "cell_type": "code",
   "execution_count": 13,
   "metadata": {},
   "outputs": [],
   "source": [
    "X = data[feature_columns].values\n",
    "y = data[\"Wine\"].values\n",
    "\n",
    "onc = OneHotEncoder(sparse=False)\n",
    "Y = onc.fit_transform(y.reshape(-1, 1))\n",
    "\n",
    "X, Y = shuffle(X, Y)\n",
    "X_train, X_test, Y_train, Y_test = train_test_split(X, Y, test_size=0.25)\n",
    "\n",
    "ss = StandardScaler()\n",
    "X_train = ss.fit_transform(X_train)\n",
    "X_test = ss.transform(X_test)\n"
   ]
  },
  {
   "cell_type": "code",
   "execution_count": 14,
   "metadata": {},
   "outputs": [],
   "source": [
    "epochs = 100\n",
    "display_step = 10"
   ]
  },
  {
   "cell_type": "code",
   "execution_count": 27,
   "metadata": {},
   "outputs": [
    {
     "name": "stdout",
     "output_type": "stream",
     "text": [
      "epochID : 0 testAcc: 0.9333 trainLoss: 1.0986\n",
      "epochID : 10 testAcc: 0.9556 trainLoss: 0.3937\n",
      "epochID : 20 testAcc: 0.9556 trainLoss: 0.2582\n",
      "epochID : 30 testAcc: 0.9556 trainLoss: 0.2002\n",
      "epochID : 40 testAcc: 0.9556 trainLoss: 0.1670\n",
      "epochID : 50 testAcc: 0.9556 trainLoss: 0.1452\n",
      "epochID : 60 testAcc: 0.9778 trainLoss: 0.1296\n",
      "epochID : 70 testAcc: 1.0000 trainLoss: 0.1178\n",
      "epochID : 80 testAcc: 1.0000 trainLoss: 0.1084\n",
      "epochID : 90 testAcc: 1.0000 trainLoss: 0.1008\n"
     ]
    }
   ],
   "source": [
    "W = tf.get_variable(name=\"W\", shape=[13, 3], dtype=tf.float32, initializer=tf.zeros_initializer)\n",
    "b = tf.get_variable(name=\"b\", shape=[1, 3], dtype=tf.float32, initializer=tf.zeros_initializer)\n",
    "optimizer = tf.train.GradientDescentOptimizer(learning_rate=1e-1)\n",
    "variables = [W, b]\n",
    "\n",
    "def model(X, W, b):\n",
    "    logits = tf.matmul(X, W) + b\n",
    "    return logits\n",
    "    \n",
    "\n",
    "for epoch_id in range(epochs):\n",
    "    with tf.GradientTape() as tape:\n",
    "        logits = model(tf.convert_to_tensor(X_train, dtype=tf.float32), W, b)\n",
    "        loss = tf.losses.softmax_cross_entropy(onehot_labels=Y_train, logits=logits)\n",
    "    gradients = tape.gradient(loss, variables)\n",
    "    optimizer.apply_gradients(grads_and_vars=zip(gradients, variables))\n",
    "    if epoch_id % display_step == 0:\n",
    "        pred_logits = model(tf.convert_to_tensor(X_test, dtype=tf.float32), W, b)\n",
    "        y_pred = tf.argmax(pred_logits, axis=1).numpy()\n",
    "        accuracy = sum(y_pred == Y_test.argmax(axis=1)) / len(Y_test)\n",
    "        print(\"epochID : %d testAcc: %.4f trainLoss: %.4f\" % (epoch_id, accuracy, loss))\n",
    "        "
   ]
  },
  {
   "cell_type": "code",
   "execution_count": null,
   "metadata": {},
   "outputs": [],
   "source": []
  },
  {
   "cell_type": "code",
   "execution_count": null,
   "metadata": {},
   "outputs": [],
   "source": []
  },
  {
   "cell_type": "code",
   "execution_count": null,
   "metadata": {},
   "outputs": [],
   "source": []
  }
 ],
 "metadata": {
  "kernelspec": {
   "display_name": "Python 3",
   "language": "python",
   "name": "python3"
  },
  "language_info": {
   "codemirror_mode": {
    "name": "ipython",
    "version": 3
   },
   "file_extension": ".py",
   "mimetype": "text/x-python",
   "name": "python",
   "nbconvert_exporter": "python",
   "pygments_lexer": "ipython3",
   "version": "3.6.8"
  }
 },
 "nbformat": 4,
 "nbformat_minor": 2
}
