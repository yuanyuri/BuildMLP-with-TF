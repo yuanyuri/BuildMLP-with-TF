{
 "cells": [
  {
   "cell_type": "code",
   "execution_count": 1,
   "metadata": {},
   "outputs": [
    {
     "name": "stderr",
     "output_type": "stream",
     "text": [
      "/anaconda/lib/python3.6/site-packages/h5py/__init__.py:36: FutureWarning: Conversion of the second argument of issubdtype from `float` to `np.floating` is deprecated. In future, it will be treated as `np.float64 == np.dtype(float).type`.\n",
      "  from ._conv import register_converters as _register_converters\n"
     ]
    }
   ],
   "source": [
    "import tensorflow as tf\n",
    "import numpy as np\n",
    "import matplotlib.pyplot as plt\n",
    "from tensorflow.examples.tutorials.mnist import input_data"
   ]
  },
  {
   "cell_type": "code",
   "execution_count": 2,
   "metadata": {},
   "outputs": [
    {
     "name": "stdout",
     "output_type": "stream",
     "text": [
      "WARNING:tensorflow:From <ipython-input-2-83231f068ae1>:1: read_data_sets (from tensorflow.contrib.learn.python.learn.datasets.mnist) is deprecated and will be removed in a future version.\n",
      "Instructions for updating:\n",
      "Please use alternatives such as official/mnist/dataset.py from tensorflow/models.\n",
      "WARNING:tensorflow:From /anaconda/lib/python3.6/site-packages/tensorflow/contrib/learn/python/learn/datasets/mnist.py:260: maybe_download (from tensorflow.contrib.learn.python.learn.datasets.base) is deprecated and will be removed in a future version.\n",
      "Instructions for updating:\n",
      "Please write your own downloading logic.\n",
      "WARNING:tensorflow:From /anaconda/lib/python3.6/site-packages/tensorflow/contrib/learn/python/learn/datasets/mnist.py:262: extract_images (from tensorflow.contrib.learn.python.learn.datasets.mnist) is deprecated and will be removed in a future version.\n",
      "Instructions for updating:\n",
      "Please use tf.data to implement this functionality.\n",
      "Extracting MNIST_data/train-images-idx3-ubyte.gz\n",
      "WARNING:tensorflow:From /anaconda/lib/python3.6/site-packages/tensorflow/contrib/learn/python/learn/datasets/mnist.py:267: extract_labels (from tensorflow.contrib.learn.python.learn.datasets.mnist) is deprecated and will be removed in a future version.\n",
      "Instructions for updating:\n",
      "Please use tf.data to implement this functionality.\n",
      "Extracting MNIST_data/train-labels-idx1-ubyte.gz\n",
      "WARNING:tensorflow:From /anaconda/lib/python3.6/site-packages/tensorflow/contrib/learn/python/learn/datasets/mnist.py:110: dense_to_one_hot (from tensorflow.contrib.learn.python.learn.datasets.mnist) is deprecated and will be removed in a future version.\n",
      "Instructions for updating:\n",
      "Please use tf.one_hot on tensors.\n",
      "Extracting MNIST_data/t10k-images-idx3-ubyte.gz\n",
      "Extracting MNIST_data/t10k-labels-idx1-ubyte.gz\n",
      "WARNING:tensorflow:From /anaconda/lib/python3.6/site-packages/tensorflow/contrib/learn/python/learn/datasets/mnist.py:290: DataSet.__init__ (from tensorflow.contrib.learn.python.learn.datasets.mnist) is deprecated and will be removed in a future version.\n",
      "Instructions for updating:\n",
      "Please use alternatives such as official/mnist/dataset.py from tensorflow/models.\n"
     ]
    }
   ],
   "source": [
    "mnist = input_data.read_data_sets(\"MNIST_data\", one_hot=True)"
   ]
  },
  {
   "cell_type": "code",
   "execution_count": 3,
   "metadata": {},
   "outputs": [
    {
     "data": {
      "text/plain": [
       "<matplotlib.image.AxesImage at 0x1c495cf710>"
      ]
     },
     "execution_count": 3,
     "metadata": {},
     "output_type": "execute_result"
    },
    {
     "data": {
      "image/png": "[encoded data removed]",
      "text/plain": [
       "<Figure size 432x288 with 1 Axes>"
      ]
     },
     "metadata": {
      "needs_background": "light"
     },
     "output_type": "display_data"
    }
   ],
   "source": [
    "plt.imshow(mnist.train.images[1200, :].reshape(28, 28))"
   ]
  },
  {
   "cell_type": "code",
   "execution_count": 4,
   "metadata": {},
   "outputs": [],
   "source": [
    "learning_rate = 0.001\n",
    "epochs = 2000\n",
    "batch_size = 100\n",
    "display_step = 100\n",
    "n_input = 784\n",
    "n_classes = 10"
   ]
  },
  {
   "cell_type": "code",
   "execution_count": 24,
   "metadata": {},
   "outputs": [],
   "source": [
    "tf.reset_default_graph()\n",
    "g = tf.Graph()\n",
    "with g.as_default():\n",
    "    X = tf.placeholder(shape=[None, n_input], dtype=tf.float32)\n",
    "    y = tf.placeholder(shape=[None, n_classes], dtype=tf.float32)\n",
    "    keep_prob = tf.placeholder(dtype=tf.float32)\n",
    "    def conv2d(x, W, b, strides=1):\n",
    "        # strides: NHWC 长度为 4 的列表： [batch, height, width, channel]\n",
    "        x = tf.nn.conv2d(input=x, filter=W, strides=[1, strides, strides, 1], padding=\"SAME\")\n",
    "        x = tf.nn.bias_add(x, b)\n",
    "        return tf.nn.relu(x)\n",
    "    \n",
    "    def maxpool2d(x, size=2, strides=2):\n",
    "        ksize = [1, size, size, 1]\n",
    "        strides = [1, strides, strides, 1]\n",
    "        return tf.nn.max_pool(value=x, ksize=ksize, strides=strides, padding=\"SAME\")\n",
    "    \n",
    "    def conv_net(x, weights, biases, keep_prob):\n",
    "        # weights, biases are dic\n",
    "        x_image = tf.reshape(x, shape=[-1, 28, 28, 1])\n",
    "        \n",
    "        # conv layer 1 -> [-1, 28, 28, 1]\n",
    "        conv1 = conv2d(x_image, W=weights[\"wc1\"], b=biases[\"bc1\"], strides=1)\n",
    "        # max_pooling 1 -> [-1, 14, 14, 32]\n",
    "        pool1 = maxpool2d(conv1, size=2, strides=2)\n",
    "        \n",
    "        # conv layer 2 -> [-1, 14, 14, 64]\n",
    "        conv2 = conv2d(pool1, W=weights[\"wc2\"], b=biases[\"bc2\"], strides=1)\n",
    "        #max_pooling 2 -> [-1, 7, 7, 64]\n",
    "        pool2 = maxpool2d(conv2, size=2, strides=2)\n",
    "        \n",
    "        # FC [-1, 7 * 7 * 64] -> [-1, 1024]\n",
    "        x_image = tf.reshape(pool2, shape=[-1, weights[\"wd1\"].shape[0]])\n",
    "        fc1 = tf.nn.relu(x_image @ weights[\"wd1\"] + biases[\"bd1\"])\n",
    "        \n",
    "        # Dropout:\n",
    "        fc1_drop = tf.nn.dropout(fc1, keep_prob=keep_prob)\n",
    "        \n",
    "        # ouput: [-1, 1024] -> [-1，10]\n",
    "        out = fc1_drop @ weights[\"out\"] + biases[\"out\"]\n",
    "        return out\n",
    "        \n",
    "    weights = {\n",
    "    \"wc1\": tf.Variable(tf.random_normal(shape=[5, 5, 1, 32])),\n",
    "    \"wc2\": tf.Variable(tf.random_normal(shape=[5, 5, 32, 64])),\n",
    "    \"wd1\": tf.Variable(tf.random_normal(shape=[7 * 7 * 64, 1024])),\n",
    "    \"out\": tf.Variable(tf.random_normal(shape=[1024, n_classes]))\n",
    "    }\n",
    "\n",
    "    biases = {\n",
    "        \"bc1\": tf.Variable(tf.random_normal(shape=[32])),\n",
    "        \"bc2\": tf.Variable(tf.random_normal(shape=[64])),\n",
    "        \"bd1\": tf.Variable(tf.random_normal(shape=[1024])),\n",
    "        \"out\": tf.Variable(tf.random_normal(shape=[n_classes]))\n",
    "    }\n",
    "    y_pred = conv_net(X, weights, biases, keep_prob=keep_prob)\n",
    "    cross_entropy = tf.reduce_mean(tf.nn.softmax_cross_entropy_with_logits(logits=y_pred, labels=y))\n",
    "    train_step = tf.train.AdamOptimizer(learning_rate=learning_rate).minimize(cross_entropy)        \n",
    "    acc = tf.reduce_mean(tf.cast(tf.equal(tf.argmax(y, axis=1), tf.argmax(y_pred, axis=1))\n",
    "                         ,dtype=tf.float32))\n",
    "    \n",
    "        "
   ]
  },
  {
   "cell_type": "code",
   "execution_count": 23,
   "metadata": {},
   "outputs": [
    {
     "name": "stdout",
     "output_type": "stream",
     "text": [
      "epoch 0, test_acc: 0.1310, train_cost: 71519.0312\n",
      "epoch 100, test_acc: 0.8630, train_cost: 4384.2124\n",
      "epoch 200, test_acc: 0.9030, train_cost: 1743.4038\n",
      "epoch 300, test_acc: 0.9180, train_cost: 1473.3047\n",
      "epoch 400, test_acc: 0.9360, train_cost: 472.7553\n",
      "epoch 500, test_acc: 0.9450, train_cost: 974.2297\n",
      "epoch 600, test_acc: 0.9490, train_cost: 111.5532\n",
      "epoch 700, test_acc: 0.9490, train_cost: 564.0584\n",
      "epoch 800, test_acc: 0.9540, train_cost: 346.1654\n",
      "epoch 900, test_acc: 0.9570, train_cost: 665.4534\n",
      "epoch 1000, test_acc: 0.9620, train_cost: 566.0750\n",
      "epoch 1100, test_acc: 0.9620, train_cost: 541.2032\n",
      "epoch 1200, test_acc: 0.9610, train_cost: 326.1720\n",
      "epoch 1300, test_acc: 0.9590, train_cost: 261.0021\n",
      "epoch 1400, test_acc: 0.9600, train_cost: 330.7505\n",
      "epoch 1500, test_acc: 0.9630, train_cost: 163.5055\n",
      "epoch 1600, test_acc: 0.9620, train_cost: 317.1008\n",
      "epoch 1700, test_acc: 0.9610, train_cost: 144.0731\n",
      "epoch 1800, test_acc: 0.9650, train_cost: 141.3055\n",
      "epoch 1900, test_acc: 0.9650, train_cost: 154.9335\n"
     ]
    }
   ],
   "source": [
    "with tf.Session(graph=g) as sess:\n",
    "    test_holder = {X: mnist.test.images[:1000, :], y: mnist.test.labels[:1000, :], keep_prob: 1.0}\n",
    "    sess.run(tf.global_variables_initializer())\n",
    "    for epoch_id in range(epochs):\n",
    "        batch_X, batch_y = mnist.train.next_batch(batch_size)\n",
    "        sess.run(train_step, feed_dict={X: batch_X, y: batch_y, keep_prob: 0.75})\n",
    "        if epoch_id % display_step == 0:\n",
    "            train_cost = sess.run(cross_entropy, feed_dict={X: batch_X, y: batch_y, keep_prob: 0.75})\n",
    "            test_acc = sess.run(acc, feed_dict=test_holder)\n",
    "            print(\"epoch %d, test_acc: %.4f, train_cost: %.4f\" % (epoch_id, test_acc, train_cost))"
   ]
  },
  {
   "cell_type": "code",
   "execution_count": null,
   "metadata": {},
   "outputs": [],
   "source": []
  },
  {
   "cell_type": "code",
   "execution_count": null,
   "metadata": {},
   "outputs": [],
   "source": []
  }
 ],
 "metadata": {
  "kernelspec": {
   "display_name": "Python 3",
   "language": "python",
   "name": "python3"
  },
  "language_info": {
   "codemirror_mode": {
    "name": "ipython",
    "version": 3
   },
   "file_extension": ".py",
   "mimetype": "text/x-python",
   "name": "python",
   "nbconvert_exporter": "python",
   "pygments_lexer": "ipython3",
   "version": "3.6.8"
  }
 },
 "nbformat": 4,
 "nbformat_minor": 2
}
