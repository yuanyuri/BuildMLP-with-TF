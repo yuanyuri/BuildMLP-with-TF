{
 "cells": [
  {
   "cell_type": "code",
   "execution_count": 1,
   "metadata": {},
   "outputs": [
    {
     "name": "stderr",
     "output_type": "stream",
     "text": [
      "/anaconda/lib/python3.6/importlib/_bootstrap.py:219: RuntimeWarning: numpy.dtype size changed, may indicate binary incompatibility. Expected 96, got 88\n",
      "  return f(*args, **kwds)\n",
      "/anaconda/lib/python3.6/site-packages/h5py/__init__.py:36: FutureWarning: Conversion of the second argument of issubdtype from `float` to `np.floating` is deprecated. In future, it will be treated as `np.float64 == np.dtype(float).type`.\n",
      "  from ._conv import register_converters as _register_converters\n",
      "/anaconda/lib/python3.6/importlib/_bootstrap.py:219: RuntimeWarning: numpy.dtype size changed, may indicate binary incompatibility. Expected 96, got 88\n",
      "  return f(*args, **kwds)\n"
     ]
    }
   ],
   "source": [
    "import tensorflow as tf\n",
    "import numpy as np\n",
    "from sklearn.utils import shuffle\n",
    "import matplotlib.pyplot as plt"
   ]
  },
  {
   "cell_type": "code",
   "execution_count": 2,
   "metadata": {},
   "outputs": [],
   "source": [
    "tf.enable_eager_execution()"
   ]
  },
  {
   "cell_type": "code",
   "execution_count": 3,
   "metadata": {},
   "outputs": [],
   "source": [
    "def model(X, hidden_weights, hidden_bias, ow):\n",
    "    Z = tf.matmul(X, hidden_weights) + hidden_bias\n",
    "    A = tf.nn.sigmoid(Z)\n",
    "    return tf.matmul(A, ow)"
   ]
  },
  {
   "cell_type": "code",
   "execution_count": 4,
   "metadata": {},
   "outputs": [],
   "source": [
    "train_samples = 200\n",
    "test_samples = 60\n",
    "total_samples = train_samples + test_samples\n",
    "epochs = 110"
   ]
  },
  {
   "cell_type": "code",
   "execution_count": 15,
   "metadata": {},
   "outputs": [],
   "source": [
    "dsX = np.linspace(-1, 1, total_samples).reshape(-1, 1)\n",
    "dsX = dsX.astype(\"float\")\n",
    "dsY = 0.4 * np.power(dsX, 2) + 2 * dsX + 0.8 + np.random.randn(*dsX.shape) * 0.22\n",
    "dsY = dsY.astype(\"float\")\n",
    "\n",
    "dsX, dsY = shuffle(dsX, dsY)\n",
    "\n",
    "trainX, trainY = dsX[: train_samples, :], dsY[: train_samples, :]\n",
    "testX, testY = dsX[train_samples: total_samples, :], dsY[train_samples: total_samples, :]"
   ]
  },
  {
   "cell_type": "code",
   "execution_count": 16,
   "metadata": {},
   "outputs": [
    {
     "data": {
      "text/plain": [
       "array([[-0.72200772],\n",
       "       [-0.18146718],\n",
       "       [ 0.003861  ],\n",
       "       [ 0.37451737],\n",
       "       [ 0.2972973 ],\n",
       "       [-0.93822394],\n",
       "       [ 0.47490347],\n",
       "       [-0.94594595],\n",
       "       [-0.53667954],\n",
       "       [ 0.56756757],\n",
       "       [-0.02702703],\n",
       "       [-0.87644788],\n",
       "       [-0.89189189],\n",
       "       [ 0.75289575],\n",
       "       [-0.50579151],\n",
       "       [-0.84555985],\n",
       "       [ 0.03474903],\n",
       "       [ 0.8996139 ],\n",
       "       [-0.2046332 ],\n",
       "       [-0.76833977],\n",
       "       [-0.33590734],\n",
       "       [ 0.36679537],\n",
       "       [-0.15830116],\n",
       "       [-0.75289575],\n",
       "       [ 0.4980695 ],\n",
       "       [-0.28957529],\n",
       "       [ 0.81467181],\n",
       "       [-0.67567568],\n",
       "       [ 0.69111969],\n",
       "       [-0.98455598],\n",
       "       [ 0.05791506],\n",
       "       [-0.52895753],\n",
       "       [-0.83783784],\n",
       "       [-0.44401544],\n",
       "       [-0.41312741],\n",
       "       [-0.45945946],\n",
       "       [-0.43629344],\n",
       "       [ 0.08108108],\n",
       "       [ 0.27413127],\n",
       "       [ 0.13513514],\n",
       "       [-0.86100386],\n",
       "       [ 0.97683398],\n",
       "       [ 0.45173745],\n",
       "       [ 0.70656371],\n",
       "       [-0.35907336],\n",
       "       [-0.95366795],\n",
       "       [-0.68339768],\n",
       "       [-0.77606178],\n",
       "       [-0.56756757],\n",
       "       [-0.15057915],\n",
       "       [-0.14285714],\n",
       "       [-0.65250965],\n",
       "       [ 0.87644788],\n",
       "       [ 0.25868726],\n",
       "       [-0.17374517],\n",
       "       [ 0.40540541],\n",
       "       [ 0.99227799],\n",
       "       [ 0.0965251 ],\n",
       "       [-0.11196911],\n",
       "       [-0.47490347],\n",
       "       [-0.25868726],\n",
       "       [-0.55984556],\n",
       "       [ 0.66795367],\n",
       "       [ 0.06563707],\n",
       "       [ 0.85328185],\n",
       "       [-0.86872587],\n",
       "       [ 0.73745174],\n",
       "       [-0.79150579],\n",
       "       [-0.62934363],\n",
       "       [-0.42084942],\n",
       "       [ 0.01930502],\n",
       "       [ 0.28957529],\n",
       "       [ 0.76833977],\n",
       "       [-0.25096525],\n",
       "       [-0.35135135],\n",
       "       [-0.16602317],\n",
       "       [-0.38223938],\n",
       "       [ 0.65250965],\n",
       "       [-0.21235521],\n",
       "       [ 0.42084942],\n",
       "       [ 0.98455598],\n",
       "       [ 0.16602317],\n",
       "       [-0.6988417 ],\n",
       "       [ 0.52895753],\n",
       "       [ 0.33590734],\n",
       "       [ 0.76061776],\n",
       "       [-0.96911197],\n",
       "       [-0.71428571],\n",
       "       [-0.46718147],\n",
       "       [ 0.17374517],\n",
       "       [-0.99227799],\n",
       "       [-0.66795367],\n",
       "       [ 0.26640927],\n",
       "       [ 0.23552124],\n",
       "       [ 0.64478764],\n",
       "       [ 0.02702703],\n",
       "       [ 0.3976834 ],\n",
       "       [ 0.43629344],\n",
       "       [-0.52123552],\n",
       "       [-0.81467181],\n",
       "       [-0.30501931],\n",
       "       [ 0.11969112],\n",
       "       [-0.28185328],\n",
       "       [-0.23552124],\n",
       "       [ 0.90733591],\n",
       "       [ 0.96138996],\n",
       "       [-0.003861  ],\n",
       "       [ 0.86872587],\n",
       "       [-0.80694981],\n",
       "       [ 0.54440154],\n",
       "       [-0.34362934],\n",
       "       [ 0.72972973],\n",
       "       [ 0.51351351],\n",
       "       [-0.58301158],\n",
       "       [ 0.71428571],\n",
       "       [-0.97683398],\n",
       "       [-0.05019305],\n",
       "       [ 0.84555985],\n",
       "       [ 0.50579151],\n",
       "       [-0.40540541],\n",
       "       [-0.36679537],\n",
       "       [-0.83011583],\n",
       "       [-0.07335907],\n",
       "       [ 0.77606178],\n",
       "       [ 0.22007722],\n",
       "       [ 0.15057915],\n",
       "       [ 0.72200772],\n",
       "       [ 0.05019305],\n",
       "       [ 0.44401544],\n",
       "       [ 0.93822394],\n",
       "       [ 0.15830116],\n",
       "       [ 0.91505792],\n",
       "       [-0.11969112],\n",
       "       [ 0.18918919],\n",
       "       [ 0.86100386],\n",
       "       [ 0.42857143],\n",
       "       [ 0.58301158],\n",
       "       [-0.90733591],\n",
       "       [-0.04247104],\n",
       "       [-0.08108108],\n",
       "       [ 0.30501931],\n",
       "       [-0.13513514],\n",
       "       [-0.03474903],\n",
       "       [ 0.55212355],\n",
       "       [-0.82239382],\n",
       "       [-0.1969112 ],\n",
       "       [-0.37451737],\n",
       "       [ 0.7992278 ],\n",
       "       [-0.01158301],\n",
       "       [-0.32046332],\n",
       "       [ 0.61389961],\n",
       "       [-0.70656371],\n",
       "       [ 0.57528958],\n",
       "       [ 0.55984556],\n",
       "       [-0.96138996],\n",
       "       [ 0.1042471 ],\n",
       "       [-0.61389961],\n",
       "       [-0.18918919],\n",
       "       [ 0.93050193],\n",
       "       [ 0.52123552],\n",
       "       [-0.57528958],\n",
       "       [ 0.79150579],\n",
       "       [ 0.25096525],\n",
       "       [ 0.83783784],\n",
       "       [-0.7992278 ],\n",
       "       [-0.8996139 ],\n",
       "       [-0.54440154],\n",
       "       [ 0.24324324],\n",
       "       [ 0.01158301],\n",
       "       [-0.72972973],\n",
       "       [-0.3976834 ],\n",
       "       [ 0.62162162],\n",
       "       [-0.76061776],\n",
       "       [ 0.68339768],\n",
       "       [-0.93050193],\n",
       "       [-0.51351351],\n",
       "       [ 0.67567568],\n",
       "       [-1.        ],\n",
       "       [ 0.78378378],\n",
       "       [-0.2972973 ],\n",
       "       [ 0.95366795],\n",
       "       [ 0.96911197],\n",
       "       [ 0.89189189],\n",
       "       [ 0.94594595],\n",
       "       [-0.92277992],\n",
       "       [ 0.21235521],\n",
       "       [-0.63706564],\n",
       "       [ 0.82239382],\n",
       "       [-0.27413127],\n",
       "       [ 0.80694981],\n",
       "       [ 0.92277992],\n",
       "       [-0.62162162],\n",
       "       [-0.91505792],\n",
       "       [ 1.        ],\n",
       "       [ 0.31274131],\n",
       "       [ 0.62934363],\n",
       "       [-0.55212355],\n",
       "       [-0.45173745],\n",
       "       [ 0.38996139],\n",
       "       [-0.69111969]])"
      ]
     },
     "execution_count": 16,
     "metadata": {},
     "output_type": "execute_result"
    }
   ],
   "source": [
    "trainX"
   ]
  },
  {
   "cell_type": "code",
   "execution_count": 12,
   "metadata": {},
   "outputs": [
    {
     "data": {
      "image/png": "[encoded data removed]",
      "text/plain": [
       "<Figure size 432x288 with 1 Axes>"
      ]
     },
     "metadata": {
      "needs_background": "light"
     },
     "output_type": "display_data"
    }
   ],
   "source": [
    "plt.figure()\n",
    "plt.title(\"Original Data\")\n",
    "plt.scatter(dsX, dsY)\n",
    "plt.show()"
   ]
  },
  {
   "cell_type": "code",
   "execution_count": 8,
   "metadata": {},
   "outputs": [],
   "source": [
    "hw1 = tf.get_variable(name=\"hw1\", shape=[1, 10], dtype=tf.float32, \\\n",
    "                      initializer=tf.random_normal_initializer)\n",
    "b = tf.get_variable(name=\"b\", shape=[1, 10], dtype=tf.float32, \\\n",
    "                   initializer=tf.random_normal_initializer)\n",
    "ow = tf.get_variable(name=\"ow\", shape=[10, 1], dtype=tf.float32, \\\n",
    "                    initializer=tf.random_normal_initializer)\n",
    "                      "
   ]
  },
  {
   "cell_type": "code",
   "execution_count": 22,
   "metadata": {},
   "outputs": [
    {
     "name": "stdout",
     "output_type": "stream",
     "text": [
      "epoch_id: 0, loss: 0.1336\n",
      "epoch_id: 10, loss: 0.1036\n",
      "epoch_id: 20, loss: 0.0651\n",
      "epoch_id: 30, loss: 0.0649\n",
      "epoch_id: 40, loss: 0.0640\n",
      "epoch_id: 50, loss: 0.0671\n",
      "epoch_id: 60, loss: 0.0635\n",
      "epoch_id: 70, loss: 0.0631\n",
      "epoch_id: 80, loss: 0.0632\n",
      "epoch_id: 90, loss: 0.0630\n",
      "epoch_id: 100, loss: 0.0629\n"
     ]
    }
   ],
   "source": [
    "optimizer = tf.train.AdamOptimizer(learning_rate=1e-1)\n",
    "variables = [hw1, b, ow]\n",
    "for epoch_id in range(epochs):\n",
    "    trainX, trainY = shuffle(trainX, trainY)\n",
    "    \n",
    "    with tf.GradientTape() as tape:\n",
    "        y_pred = model(tf.convert_to_tensor(trainX, dtype=tf.float32), hw1, b, ow)\n",
    "        loss = tf.reduce_mean(tf.square(trainY - y_pred))\n",
    "    gradients = tape.gradient(loss, variables)\n",
    "    optimizer.apply_gradients(grads_and_vars=zip(gradients, variables))\n",
    "    cost = tf.reduce_mean(tf.square(testY - model(tf.convert_to_tensor(testX, dtype=tf.float32), hw1, b, ow)))\n",
    "    if epoch_id % 10 == 0:\n",
    "        print(\"epoch_id: %d, loss: %.4f\" %(epoch_id, cost))\n",
    "        \n",
    "    "
   ]
  },
  {
   "cell_type": "markdown",
   "metadata": {},
   "source": [
    "## 非线性回归预测汽车燃烧效率"
   ]
  },
  {
   "cell_type": "code",
   "execution_count": 37,
   "metadata": {},
   "outputs": [],
   "source": [
    "from sklearn.model_selection import train_test_split\n",
    "from sklearn.preprocessing import StandardScaler\n",
    "from sklearn.metrics import mean_squared_error\n",
    "import tensorflow.contrib.learn as skflow\n",
    "import pandas as pd"
   ]
  },
  {
   "cell_type": "code",
   "execution_count": 30,
   "metadata": {},
   "outputs": [],
   "source": [
    "df = pd.read_csv(\"mpg.csv\")\n",
    "feature_columns = [\"cylinders\", \"displacement\", \"horsepower\", \"weight\", \"acceleration\", \"model_year\", \"origin\"]\n",
    "\n",
    "X = df[feature_columns].values\n",
    "y = df[\"mpg\"].values"
   ]
  },
  {
   "cell_type": "code",
   "execution_count": 33,
   "metadata": {},
   "outputs": [
    {
     "data": {
      "text/html": [
       "<div>\n",
       "<style scoped>\n",
       "    .dataframe tbody tr th:only-of-type {\n",
       "        vertical-align: middle;\n",
       "    }\n",
       "\n",
       "    .dataframe tbody tr th {\n",
       "        vertical-align: top;\n",
       "    }\n",
       "\n",
       "    .dataframe thead th {\n",
       "        text-align: right;\n",
       "    }\n",
       "</style>\n",
       "<table border=\"1\" class=\"dataframe\">\n",
       "  <thead>\n",
       "    <tr style=\"text-align: right;\">\n",
       "      <th></th>\n",
       "      <th>mpg</th>\n",
       "      <th>cylinders</th>\n",
       "      <th>displacement</th>\n",
       "      <th>horsepower</th>\n",
       "      <th>weight</th>\n",
       "      <th>acceleration</th>\n",
       "      <th>model_year</th>\n",
       "      <th>origin</th>\n",
       "      <th>name</th>\n",
       "    </tr>\n",
       "  </thead>\n",
       "  <tbody>\n",
       "    <tr>\n",
       "      <th>0</th>\n",
       "      <td>18.0</td>\n",
       "      <td>8</td>\n",
       "      <td>307.0</td>\n",
       "      <td>130</td>\n",
       "      <td>3504</td>\n",
       "      <td>12.0</td>\n",
       "      <td>70</td>\n",
       "      <td>1</td>\n",
       "      <td>chevrolet chevelle malibu</td>\n",
       "    </tr>\n",
       "    <tr>\n",
       "      <th>1</th>\n",
       "      <td>15.0</td>\n",
       "      <td>8</td>\n",
       "      <td>350.0</td>\n",
       "      <td>165</td>\n",
       "      <td>3693</td>\n",
       "      <td>11.5</td>\n",
       "      <td>70</td>\n",
       "      <td>1</td>\n",
       "      <td>buick skylark 320</td>\n",
       "    </tr>\n",
       "    <tr>\n",
       "      <th>2</th>\n",
       "      <td>18.0</td>\n",
       "      <td>8</td>\n",
       "      <td>318.0</td>\n",
       "      <td>150</td>\n",
       "      <td>3436</td>\n",
       "      <td>11.0</td>\n",
       "      <td>70</td>\n",
       "      <td>1</td>\n",
       "      <td>plymouth satellite</td>\n",
       "    </tr>\n",
       "    <tr>\n",
       "      <th>3</th>\n",
       "      <td>16.0</td>\n",
       "      <td>8</td>\n",
       "      <td>304.0</td>\n",
       "      <td>150</td>\n",
       "      <td>3433</td>\n",
       "      <td>12.0</td>\n",
       "      <td>70</td>\n",
       "      <td>1</td>\n",
       "      <td>amc rebel sst</td>\n",
       "    </tr>\n",
       "    <tr>\n",
       "      <th>4</th>\n",
       "      <td>17.0</td>\n",
       "      <td>8</td>\n",
       "      <td>302.0</td>\n",
       "      <td>140</td>\n",
       "      <td>3449</td>\n",
       "      <td>10.5</td>\n",
       "      <td>70</td>\n",
       "      <td>1</td>\n",
       "      <td>ford torino</td>\n",
       "    </tr>\n",
       "  </tbody>\n",
       "</table>\n",
       "</div>"
      ],
      "text/plain": [
       "    mpg  cylinders  displacement  horsepower  weight  acceleration  \\\n",
       "0  18.0          8         307.0         130    3504          12.0   \n",
       "1  15.0          8         350.0         165    3693          11.5   \n",
       "2  18.0          8         318.0         150    3436          11.0   \n",
       "3  16.0          8         304.0         150    3433          12.0   \n",
       "4  17.0          8         302.0         140    3449          10.5   \n",
       "\n",
       "   model_year  origin                       name  \n",
       "0          70       1  chevrolet chevelle malibu  \n",
       "1          70       1          buick skylark 320  \n",
       "2          70       1         plymouth satellite  \n",
       "3          70       1              amc rebel sst  \n",
       "4          70       1                ford torino  "
      ]
     },
     "execution_count": 33,
     "metadata": {},
     "output_type": "execute_result"
    }
   ],
   "source": [
    "df.head()"
   ]
  },
  {
   "cell_type": "code",
   "execution_count": 31,
   "metadata": {},
   "outputs": [],
   "source": [
    "X_train, X_test, y_train, y_test = train_test_split(X, y, test_size=0.25)\n",
    "ss = StandardScaler()\n",
    "X_train = ss.fit_transform(X_train)\n",
    "X_test = ss.transform(X_test)"
   ]
  },
  {
   "cell_type": "code",
   "execution_count": 34,
   "metadata": {},
   "outputs": [],
   "source": [
    "feature_cols = [tf.contrib.layers.real_valued_column(k) for k in feature_columns]\n"
   ]
  },
  {
   "cell_type": "code",
   "execution_count": 36,
   "metadata": {},
   "outputs": [],
   "source": [
    "model_dir = \"/Users/youliyuan/ML/TensorFlow/Building Machine Learning with TensorFlow\""
   ]
  },
  {
   "cell_type": "code",
   "execution_count": 39,
   "metadata": {},
   "outputs": [
    {
     "name": "stdout",
     "output_type": "stream",
     "text": [
      "INFO:tensorflow:Using default config.\n",
      "INFO:tensorflow:Using config: {'_task_type': None, '_task_id': 0, '_cluster_spec': <tensorflow.python.training.server_lib.ClusterSpec object at 0x1c3e344cc0>, '_master': '', '_num_ps_replicas': 0, '_num_worker_replicas': 0, '_environment': 'local', '_is_chief': True, '_evaluation_master': '', '_train_distribute': None, '_eval_distribute': None, '_device_fn': None, '_tf_config': gpu_options {\n",
      "  per_process_gpu_memory_fraction: 1.0\n",
      "}\n",
      ", '_tf_random_seed': None, '_save_summary_steps': 100, '_save_checkpoints_secs': 600, '_log_step_count_steps': 100, '_protocol': None, '_session_config': None, '_save_checkpoints_steps': None, '_keep_checkpoint_max': 5, '_keep_checkpoint_every_n_hours': 10000, '_model_dir': '/Users/youliyuan/ML/TensorFlow/Building Machine Learning with TensorFlow'}\n"
     ]
    }
   ],
   "source": [
    "optimizer = tf.train.AdamOptimizer(learning_rate=1e-2)\n",
    "regressor = skflow.DNNRegressor(hidden_units=[10, 5],\n",
    "                                optimizer=optimizer,\n",
    "                                feature_columns=feature_cols,\n",
    "                                model_dir=model_dir\n",
    "                               )"
   ]
  },
  {
   "cell_type": "code",
   "execution_count": 43,
   "metadata": {},
   "outputs": [],
   "source": [
    "def input_fn(df, label):\n",
    "    feature_cols = {k: tf.constant(df[:,i]) for i, k in enumerate(feature_columns)}\n",
    "    label = tf.constant(label)\n",
    "    return feature_cols, label\n",
    "\n",
    "\n",
    "def train_input_fn():\n",
    "    return input_fn(X_train, y_train)\n",
    "\n",
    "\n",
    "def test_input_fn():\n",
    "    return input_fn(X_test, y_test)"
   ]
  },
  {
   "cell_type": "code",
   "execution_count": 41,
   "metadata": {},
   "outputs": [
    {
     "name": "stdout",
     "output_type": "stream",
     "text": [
      "WARNING:tensorflow:Rank of input Tensor (1) should be the same as output_rank (2) for column. Will attempt to expand dims. It is highly recommended that you resize your input, as this behavior may change.\n",
      "WARNING:tensorflow:Rank of input Tensor (1) should be the same as output_rank (2) for column. Will attempt to expand dims. It is highly recommended that you resize your input, as this behavior may change.\n",
      "WARNING:tensorflow:Rank of input Tensor (1) should be the same as output_rank (2) for column. Will attempt to expand dims. It is highly recommended that you resize your input, as this behavior may change.\n",
      "WARNING:tensorflow:Rank of input Tensor (1) should be the same as output_rank (2) for column. Will attempt to expand dims. It is highly recommended that you resize your input, as this behavior may change.\n",
      "WARNING:tensorflow:Rank of input Tensor (1) should be the same as output_rank (2) for column. Will attempt to expand dims. It is highly recommended that you resize your input, as this behavior may change.\n",
      "WARNING:tensorflow:Rank of input Tensor (1) should be the same as output_rank (2) for column. Will attempt to expand dims. It is highly recommended that you resize your input, as this behavior may change.\n",
      "WARNING:tensorflow:Rank of input Tensor (1) should be the same as output_rank (2) for column. Will attempt to expand dims. It is highly recommended that you resize your input, as this behavior may change.\n",
      "WARNING:tensorflow:From /anaconda/lib/python3.6/site-packages/tensorflow/contrib/learn/python/learn/estimators/head.py:678: ModelFnOps.__new__ (from tensorflow.contrib.learn.python.learn.estimators.model_fn) is deprecated and will be removed in a future version.\n",
      "Instructions for updating:\n",
      "When switching to tf.estimator.Estimator, use tf.estimator.EstimatorSpec. You can use the `estimator_spec` method to create an equivalent one.\n",
      "INFO:tensorflow:Create CheckpointSaverHook.\n",
      "INFO:tensorflow:Graph was finalized.\n",
      "INFO:tensorflow:Running local_init_op.\n",
      "INFO:tensorflow:Done running local_init_op.\n",
      "INFO:tensorflow:Saving checkpoints for 0 into /Users/youliyuan/ML/TensorFlow/Building Machine Learning with TensorFlow/model.ckpt.\n",
      "INFO:tensorflow:loss = 668.05597, step = 1\n",
      "INFO:tensorflow:global_step/sec: 379.907\n",
      "INFO:tensorflow:loss = 15.777695, step = 101 (0.265 sec)\n",
      "INFO:tensorflow:global_step/sec: 834.918\n",
      "INFO:tensorflow:loss = 9.30322, step = 201 (0.118 sec)\n",
      "INFO:tensorflow:global_step/sec: 801.463\n",
      "INFO:tensorflow:loss = 7.6235304, step = 301 (0.125 sec)\n",
      "INFO:tensorflow:global_step/sec: 860.215\n",
      "INFO:tensorflow:loss = 6.9125543, step = 401 (0.116 sec)\n",
      "INFO:tensorflow:Saving checkpoints for 500 into /Users/youliyuan/ML/TensorFlow/Building Machine Learning with TensorFlow/model.ckpt.\n",
      "INFO:tensorflow:Loss for final step: 6.5827703.\n"
     ]
    },
    {
     "data": {
      "text/plain": [
       "DNNRegressor(params={'head': <tensorflow.contrib.learn.python.learn.estimators.head._RegressionHead object at 0x1c3e344b38>, 'hidden_units': [10, 5], 'feature_columns': (_RealValuedColumn(column_name='cylinders', dimension=1, default_value=None, dtype=tf.float32, normalizer=None), _RealValuedColumn(column_name='displacement', dimension=1, default_value=None, dtype=tf.float32, normalizer=None), _RealValuedColumn(column_name='horsepower', dimension=1, default_value=None, dtype=tf.float32, normalizer=None), _RealValuedColumn(column_name='weight', dimension=1, default_value=None, dtype=tf.float32, normalizer=None), _RealValuedColumn(column_name='acceleration', dimension=1, default_value=None, dtype=tf.float32, normalizer=None), _RealValuedColumn(column_name='model_year', dimension=1, default_value=None, dtype=tf.float32, normalizer=None), _RealValuedColumn(column_name='origin', dimension=1, default_value=None, dtype=tf.float32, normalizer=None)), 'optimizer': <tensorflow.python.training.adam.AdamOptimizer object at 0x1c3e344b70>, 'activation_fn': <function relu at 0x152aed3158>, 'dropout': None, 'gradient_clip_norm': None, 'embedding_lr_multipliers': None, 'input_layer_min_slice_size': None})"
      ]
     },
     "execution_count": 41,
     "metadata": {},
     "output_type": "execute_result"
    }
   ],
   "source": [
    "regressor.fit(input_fn=train_input_fn, steps=500)"
   ]
  },
  {
   "cell_type": "code",
   "execution_count": 48,
   "metadata": {},
   "outputs": [
    {
     "name": "stdout",
     "output_type": "stream",
     "text": [
      "WARNING:tensorflow:Rank of input Tensor (1) should be the same as output_rank (2) for column. Will attempt to expand dims. It is highly recommended that you resize your input, as this behavior may change.\n",
      "WARNING:tensorflow:Rank of input Tensor (1) should be the same as output_rank (2) for column. Will attempt to expand dims. It is highly recommended that you resize your input, as this behavior may change.\n",
      "WARNING:tensorflow:Rank of input Tensor (1) should be the same as output_rank (2) for column. Will attempt to expand dims. It is highly recommended that you resize your input, as this behavior may change.\n",
      "WARNING:tensorflow:Rank of input Tensor (1) should be the same as output_rank (2) for column. Will attempt to expand dims. It is highly recommended that you resize your input, as this behavior may change.\n",
      "WARNING:tensorflow:Rank of input Tensor (1) should be the same as output_rank (2) for column. Will attempt to expand dims. It is highly recommended that you resize your input, as this behavior may change.\n",
      "WARNING:tensorflow:Rank of input Tensor (1) should be the same as output_rank (2) for column. Will attempt to expand dims. It is highly recommended that you resize your input, as this behavior may change.\n",
      "WARNING:tensorflow:Rank of input Tensor (1) should be the same as output_rank (2) for column. Will attempt to expand dims. It is highly recommended that you resize your input, as this behavior may change.\n",
      "INFO:tensorflow:Graph was finalized.\n",
      "INFO:tensorflow:Restoring parameters from /Users/youliyuan/ML/TensorFlow/Building Machine Learning with TensorFlow/model.ckpt-500\n",
      "INFO:tensorflow:Running local_init_op.\n",
      "INFO:tensorflow:Done running local_init_op.\n"
     ]
    }
   ],
   "source": [
    "result = regressor.predict(input_fn=test_input_fn, as_iterable=False)"
   ]
  },
  {
   "cell_type": "code",
   "execution_count": 45,
   "metadata": {},
   "outputs": [
    {
     "name": "stdout",
     "output_type": "stream",
     "text": [
      "WARNING:tensorflow:Rank of input Tensor (1) should be the same as output_rank (2) for column. Will attempt to expand dims. It is highly recommended that you resize your input, as this behavior may change.\n",
      "WARNING:tensorflow:Rank of input Tensor (1) should be the same as output_rank (2) for column. Will attempt to expand dims. It is highly recommended that you resize your input, as this behavior may change.\n",
      "WARNING:tensorflow:Rank of input Tensor (1) should be the same as output_rank (2) for column. Will attempt to expand dims. It is highly recommended that you resize your input, as this behavior may change.\n",
      "WARNING:tensorflow:Rank of input Tensor (1) should be the same as output_rank (2) for column. Will attempt to expand dims. It is highly recommended that you resize your input, as this behavior may change.\n",
      "WARNING:tensorflow:Rank of input Tensor (1) should be the same as output_rank (2) for column. Will attempt to expand dims. It is highly recommended that you resize your input, as this behavior may change.\n",
      "WARNING:tensorflow:Rank of input Tensor (1) should be the same as output_rank (2) for column. Will attempt to expand dims. It is highly recommended that you resize your input, as this behavior may change.\n",
      "WARNING:tensorflow:Rank of input Tensor (1) should be the same as output_rank (2) for column. Will attempt to expand dims. It is highly recommended that you resize your input, as this behavior may change.\n",
      "INFO:tensorflow:Starting evaluation at 2019-03-14-07:09:03\n",
      "INFO:tensorflow:Graph was finalized.\n",
      "INFO:tensorflow:Restoring parameters from /Users/youliyuan/ML/TensorFlow/Building Machine Learning with TensorFlow/model.ckpt-500\n",
      "INFO:tensorflow:Running local_init_op.\n",
      "INFO:tensorflow:Done running local_init_op.\n",
      "INFO:tensorflow:Evaluation [1/1]\n",
      "INFO:tensorflow:Finished evaluation at 2019-03-14-07:09:03\n",
      "INFO:tensorflow:Saving dict for global step 500: global_step = 500, loss = 12.317752\n",
      "ev: {'loss': 12.317752, 'global_step': 500}\n"
     ]
    }
   ],
   "source": [
    "ev = regressor.evaluate(input_fn=test_input_fn, steps=1)\n",
    "print('ev: {}'.format(ev))"
   ]
  },
  {
   "cell_type": "code",
   "execution_count": 49,
   "metadata": {},
   "outputs": [
    {
     "data": {
      "text/plain": [
       "array([35.570004 , 18.601168 , 17.782495 , 12.066157 , 20.218079 ,\n",
       "       15.100686 , 16.59597  , 32.16015  , 15.094185 , 17.09676  ,\n",
       "       16.135637 , 33.908997 , 22.574593 , 31.603096 , 32.265247 ,\n",
       "       26.906483 , 35.60558  , 23.92249  , 12.914478 , 24.190992 ,\n",
       "       19.097963 , 25.81225  , 21.330147 , 15.688859 , 28.068066 ,\n",
       "       32.207096 , 19.163954 , 15.81074  , 16.44898  , 24.014702 ,\n",
       "       30.28896  , 37.200836 , 27.999287 , 22.043852 , 20.800264 ,\n",
       "       12.468895 , 34.288635 , 14.396342 , 17.372038 , 20.802942 ,\n",
       "       22.75381  , 29.573751 , 27.039469 , 13.214736 , 12.538824 ,\n",
       "       14.022063 , 15.790554 , 16.061932 , 20.953138 , 27.576881 ,\n",
       "       35.45637  , 18.614721 , 13.833896 , 26.916565 , 26.480614 ,\n",
       "       25.037966 , 24.267355 , 16.820555 , 24.021664 , 20.343616 ,\n",
       "       21.44248  , 14.526065 , 24.467426 , 11.793122 , 22.972124 ,\n",
       "       42.206543 , 12.467068 , 24.972866 , 30.583826 , 17.371702 ,\n",
       "       11.31699  , 28.093029 , 26.589611 , 30.428108 , 23.64294  ,\n",
       "       18.79998  , 32.188217 , 15.052616 , 36.109077 , 35.022198 ,\n",
       "       19.213133 , 26.776594 , 29.582775 , 15.299109 , 13.049147 ,\n",
       "       24.26212  , 34.57393  , 15.2229595, 27.207067 , 29.925938 ,\n",
       "       40.350395 , 30.135025 , 31.303303 , 21.021837 , 15.018699 ,\n",
       "       35.88092  , 17.267176 , 16.256672 , 16.908142 , 34.630398 ],\n",
       "      dtype=float32)"
      ]
     },
     "execution_count": 49,
     "metadata": {},
     "output_type": "execute_result"
    }
   ],
   "source": [
    "result"
   ]
  },
  {
   "cell_type": "code",
   "execution_count": 50,
   "metadata": {},
   "outputs": [
    {
     "name": "stdout",
     "output_type": "stream",
     "text": [
      "Total MSE: 12.317750404449464\n"
     ]
    }
   ],
   "source": [
    "mse = mean_squared_error(y_pred=result, y_true=y_test)\n",
    "print(\"Total MSE: \" + str(mse))"
   ]
  },
  {
   "cell_type": "code",
   "execution_count": null,
   "metadata": {},
   "outputs": [],
   "source": []
  }
 ],
 "metadata": {
  "kernelspec": {
   "display_name": "Python 3",
   "language": "python",
   "name": "python3"
  },
  "language_info": {
   "codemirror_mode": {
    "name": "ipython",
    "version": 3
   },
   "file_extension": ".py",
   "mimetype": "text/x-python",
   "name": "python",
   "nbconvert_exporter": "python",
   "pygments_lexer": "ipython3",
   "version": "3.6.8"
  }
 },
 "nbformat": 4,
 "nbformat_minor": 2
}
